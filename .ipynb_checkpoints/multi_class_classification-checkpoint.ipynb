{
 "cells": [
  {
   "cell_type": "code",
   "execution_count": 51,
   "id": "0fe47c18-efa1-4f93-bcca-8b25ab134f7e",
   "metadata": {},
   "outputs": [],
   "source": [
    "import pandas as pd\n",
    "import numpy as np"
   ]
  },
  {
   "cell_type": "code",
   "execution_count": 53,
   "id": "9be8759b-7ad8-4039-ae67-50114aa9750b",
   "metadata": {},
   "outputs": [
    {
     "data": {
      "text/html": [
       "<div>\n",
       "<style scoped>\n",
       "    .dataframe tbody tr th:only-of-type {\n",
       "        vertical-align: middle;\n",
       "    }\n",
       "\n",
       "    .dataframe tbody tr th {\n",
       "        vertical-align: top;\n",
       "    }\n",
       "\n",
       "    .dataframe thead th {\n",
       "        text-align: right;\n",
       "    }\n",
       "</style>\n",
       "<table border=\"1\" class=\"dataframe\">\n",
       "  <thead>\n",
       "    <tr style=\"text-align: right;\">\n",
       "      <th></th>\n",
       "      <th>sepal length</th>\n",
       "      <th>sepal width</th>\n",
       "      <th>petal length</th>\n",
       "      <th>petal width</th>\n",
       "      <th>label</th>\n",
       "    </tr>\n",
       "  </thead>\n",
       "  <tbody>\n",
       "    <tr>\n",
       "      <th>807</th>\n",
       "      <td>4.8</td>\n",
       "      <td>3.4</td>\n",
       "      <td>1.8</td>\n",
       "      <td>0.2</td>\n",
       "      <td>Iris-setosa</td>\n",
       "    </tr>\n",
       "    <tr>\n",
       "      <th>2254</th>\n",
       "      <td>6.0</td>\n",
       "      <td>2.6</td>\n",
       "      <td>5.3</td>\n",
       "      <td>1.6</td>\n",
       "      <td>Iris-virginica</td>\n",
       "    </tr>\n",
       "    <tr>\n",
       "      <th>2694</th>\n",
       "      <td>6.4</td>\n",
       "      <td>2.8</td>\n",
       "      <td>5.7</td>\n",
       "      <td>2.1</td>\n",
       "      <td>Iris-virginica</td>\n",
       "    </tr>\n",
       "    <tr>\n",
       "      <th>1475</th>\n",
       "      <td>6.7</td>\n",
       "      <td>3.1</td>\n",
       "      <td>4.6</td>\n",
       "      <td>1.5</td>\n",
       "      <td>Iris-versicolor</td>\n",
       "    </tr>\n",
       "    <tr>\n",
       "      <th>2760</th>\n",
       "      <td>6.3</td>\n",
       "      <td>3.1</td>\n",
       "      <td>5.3</td>\n",
       "      <td>1.8</td>\n",
       "      <td>Iris-virginica</td>\n",
       "    </tr>\n",
       "  </tbody>\n",
       "</table>\n",
       "</div>"
      ],
      "text/plain": [
       "      sepal length  sepal width  petal length  petal width            label\n",
       "807            4.8          3.4           1.8          0.2      Iris-setosa\n",
       "2254           6.0          2.6           5.3          1.6   Iris-virginica\n",
       "2694           6.4          2.8           5.7          2.1   Iris-virginica\n",
       "1475           6.7          3.1           4.6          1.5  Iris-versicolor\n",
       "2760           6.3          3.1           5.3          1.8   Iris-virginica"
      ]
     },
     "execution_count": 53,
     "metadata": {},
     "output_type": "execute_result"
    }
   ],
   "source": [
    "df = pd.read_csv(\"iris_synthetic_data.csv\")\n",
    "df.sample(5)"
   ]
  },
  {
   "cell_type": "code",
   "execution_count": 55,
   "id": "03261c4c-ac59-4378-b867-d59bd33c2b3d",
   "metadata": {},
   "outputs": [
    {
     "name": "stdout",
     "output_type": "stream",
     "text": [
      "<class 'pandas.core.frame.DataFrame'>\n",
      "RangeIndex: 3000 entries, 0 to 2999\n",
      "Data columns (total 5 columns):\n",
      " #   Column        Non-Null Count  Dtype  \n",
      "---  ------        --------------  -----  \n",
      " 0   sepal length  3000 non-null   float64\n",
      " 1   sepal width   3000 non-null   float64\n",
      " 2   petal length  3000 non-null   float64\n",
      " 3   petal width   3000 non-null   float64\n",
      " 4   label         3000 non-null   object \n",
      "dtypes: float64(4), object(1)\n",
      "memory usage: 117.3+ KB\n"
     ]
    }
   ],
   "source": [
    "df.info()"
   ]
  },
  {
   "cell_type": "code",
   "execution_count": 57,
   "id": "528eab10-6150-4add-842b-39ba25b0434e",
   "metadata": {},
   "outputs": [
    {
     "data": {
      "text/html": [
       "<div>\n",
       "<style scoped>\n",
       "    .dataframe tbody tr th:only-of-type {\n",
       "        vertical-align: middle;\n",
       "    }\n",
       "\n",
       "    .dataframe tbody tr th {\n",
       "        vertical-align: top;\n",
       "    }\n",
       "\n",
       "    .dataframe thead th {\n",
       "        text-align: right;\n",
       "    }\n",
       "</style>\n",
       "<table border=\"1\" class=\"dataframe\">\n",
       "  <thead>\n",
       "    <tr style=\"text-align: right;\">\n",
       "      <th></th>\n",
       "      <th>sepal length</th>\n",
       "      <th>sepal width</th>\n",
       "      <th>petal length</th>\n",
       "      <th>petal width</th>\n",
       "    </tr>\n",
       "  </thead>\n",
       "  <tbody>\n",
       "    <tr>\n",
       "      <th>count</th>\n",
       "      <td>3000.000000</td>\n",
       "      <td>3000.000000</td>\n",
       "      <td>3000.000000</td>\n",
       "      <td>3000.000000</td>\n",
       "    </tr>\n",
       "    <tr>\n",
       "      <th>mean</th>\n",
       "      <td>5.865267</td>\n",
       "      <td>3.051833</td>\n",
       "      <td>3.767367</td>\n",
       "      <td>1.191000</td>\n",
       "    </tr>\n",
       "    <tr>\n",
       "      <th>std</th>\n",
       "      <td>0.805073</td>\n",
       "      <td>0.412472</td>\n",
       "      <td>1.751183</td>\n",
       "      <td>0.758022</td>\n",
       "    </tr>\n",
       "    <tr>\n",
       "      <th>min</th>\n",
       "      <td>4.300000</td>\n",
       "      <td>2.000000</td>\n",
       "      <td>0.900000</td>\n",
       "      <td>0.100000</td>\n",
       "    </tr>\n",
       "    <tr>\n",
       "      <th>25%</th>\n",
       "      <td>5.100000</td>\n",
       "      <td>2.800000</td>\n",
       "      <td>1.500000</td>\n",
       "      <td>0.300000</td>\n",
       "    </tr>\n",
       "    <tr>\n",
       "      <th>50%</th>\n",
       "      <td>5.800000</td>\n",
       "      <td>3.000000</td>\n",
       "      <td>4.300000</td>\n",
       "      <td>1.300000</td>\n",
       "    </tr>\n",
       "    <tr>\n",
       "      <th>75%</th>\n",
       "      <td>6.400000</td>\n",
       "      <td>3.300000</td>\n",
       "      <td>5.200000</td>\n",
       "      <td>1.800000</td>\n",
       "    </tr>\n",
       "    <tr>\n",
       "      <th>max</th>\n",
       "      <td>7.900000</td>\n",
       "      <td>4.400000</td>\n",
       "      <td>6.900000</td>\n",
       "      <td>2.500000</td>\n",
       "    </tr>\n",
       "  </tbody>\n",
       "</table>\n",
       "</div>"
      ],
      "text/plain": [
       "       sepal length  sepal width  petal length  petal width\n",
       "count   3000.000000  3000.000000   3000.000000  3000.000000\n",
       "mean       5.865267     3.051833      3.767367     1.191000\n",
       "std        0.805073     0.412472      1.751183     0.758022\n",
       "min        4.300000     2.000000      0.900000     0.100000\n",
       "25%        5.100000     2.800000      1.500000     0.300000\n",
       "50%        5.800000     3.000000      4.300000     1.300000\n",
       "75%        6.400000     3.300000      5.200000     1.800000\n",
       "max        7.900000     4.400000      6.900000     2.500000"
      ]
     },
     "execution_count": 57,
     "metadata": {},
     "output_type": "execute_result"
    }
   ],
   "source": [
    "df.describe()"
   ]
  },
  {
   "cell_type": "code",
   "execution_count": 59,
   "id": "cc1c2326-ef4d-424a-a0de-593857a0dd26",
   "metadata": {},
   "outputs": [
    {
     "data": {
      "text/plain": [
       "sepal length    0\n",
       "sepal width     0\n",
       "petal length    0\n",
       "petal width     0\n",
       "label           0\n",
       "dtype: int64"
      ]
     },
     "execution_count": 59,
     "metadata": {},
     "output_type": "execute_result"
    }
   ],
   "source": [
    "df.isnull().sum()"
   ]
  },
  {
   "cell_type": "code",
   "execution_count": 61,
   "id": "eb384b9d-15be-4c28-9ceb-bba9d17a60d4",
   "metadata": {},
   "outputs": [
    {
     "data": {
      "text/html": [
       "<div>\n",
       "<style scoped>\n",
       "    .dataframe tbody tr th:only-of-type {\n",
       "        vertical-align: middle;\n",
       "    }\n",
       "\n",
       "    .dataframe tbody tr th {\n",
       "        vertical-align: top;\n",
       "    }\n",
       "\n",
       "    .dataframe thead th {\n",
       "        text-align: right;\n",
       "    }\n",
       "</style>\n",
       "<table border=\"1\" class=\"dataframe\">\n",
       "  <thead>\n",
       "    <tr style=\"text-align: right;\">\n",
       "      <th></th>\n",
       "      <th>sepal length</th>\n",
       "      <th>sepal width</th>\n",
       "      <th>petal length</th>\n",
       "      <th>petal width</th>\n",
       "    </tr>\n",
       "  </thead>\n",
       "  <tbody>\n",
       "    <tr>\n",
       "      <th>0</th>\n",
       "      <td>5.2</td>\n",
       "      <td>3.8</td>\n",
       "      <td>1.5</td>\n",
       "      <td>0.3</td>\n",
       "    </tr>\n",
       "    <tr>\n",
       "      <th>1</th>\n",
       "      <td>5.3</td>\n",
       "      <td>4.1</td>\n",
       "      <td>1.5</td>\n",
       "      <td>0.1</td>\n",
       "    </tr>\n",
       "    <tr>\n",
       "      <th>2</th>\n",
       "      <td>4.8</td>\n",
       "      <td>3.1</td>\n",
       "      <td>1.5</td>\n",
       "      <td>0.2</td>\n",
       "    </tr>\n",
       "    <tr>\n",
       "      <th>3</th>\n",
       "      <td>5.2</td>\n",
       "      <td>3.7</td>\n",
       "      <td>1.5</td>\n",
       "      <td>0.2</td>\n",
       "    </tr>\n",
       "    <tr>\n",
       "      <th>4</th>\n",
       "      <td>4.9</td>\n",
       "      <td>3.0</td>\n",
       "      <td>1.5</td>\n",
       "      <td>0.3</td>\n",
       "    </tr>\n",
       "    <tr>\n",
       "      <th>...</th>\n",
       "      <td>...</td>\n",
       "      <td>...</td>\n",
       "      <td>...</td>\n",
       "      <td>...</td>\n",
       "    </tr>\n",
       "    <tr>\n",
       "      <th>2995</th>\n",
       "      <td>7.2</td>\n",
       "      <td>3.6</td>\n",
       "      <td>6.0</td>\n",
       "      <td>2.5</td>\n",
       "    </tr>\n",
       "    <tr>\n",
       "      <th>2996</th>\n",
       "      <td>7.3</td>\n",
       "      <td>3.0</td>\n",
       "      <td>6.2</td>\n",
       "      <td>2.1</td>\n",
       "    </tr>\n",
       "    <tr>\n",
       "      <th>2997</th>\n",
       "      <td>6.9</td>\n",
       "      <td>3.2</td>\n",
       "      <td>5.7</td>\n",
       "      <td>2.3</td>\n",
       "    </tr>\n",
       "    <tr>\n",
       "      <th>2998</th>\n",
       "      <td>7.5</td>\n",
       "      <td>2.8</td>\n",
       "      <td>6.0</td>\n",
       "      <td>2.0</td>\n",
       "    </tr>\n",
       "    <tr>\n",
       "      <th>2999</th>\n",
       "      <td>6.7</td>\n",
       "      <td>3.0</td>\n",
       "      <td>5.3</td>\n",
       "      <td>2.3</td>\n",
       "    </tr>\n",
       "  </tbody>\n",
       "</table>\n",
       "<p>3000 rows × 4 columns</p>\n",
       "</div>"
      ],
      "text/plain": [
       "      sepal length  sepal width  petal length  petal width\n",
       "0              5.2          3.8           1.5          0.3\n",
       "1              5.3          4.1           1.5          0.1\n",
       "2              4.8          3.1           1.5          0.2\n",
       "3              5.2          3.7           1.5          0.2\n",
       "4              4.9          3.0           1.5          0.3\n",
       "...            ...          ...           ...          ...\n",
       "2995           7.2          3.6           6.0          2.5\n",
       "2996           7.3          3.0           6.2          2.1\n",
       "2997           6.9          3.2           5.7          2.3\n",
       "2998           7.5          2.8           6.0          2.0\n",
       "2999           6.7          3.0           5.3          2.3\n",
       "\n",
       "[3000 rows x 4 columns]"
      ]
     },
     "execution_count": 61,
     "metadata": {},
     "output_type": "execute_result"
    }
   ],
   "source": [
    "X = df.iloc[:,:-1]\n",
    "X"
   ]
  },
  {
   "cell_type": "code",
   "execution_count": 63,
   "id": "78434e36-e836-4592-aa44-033bb3409847",
   "metadata": {},
   "outputs": [
    {
     "data": {
      "text/plain": [
       "0          Iris-setosa\n",
       "1          Iris-setosa\n",
       "2          Iris-setosa\n",
       "3          Iris-setosa\n",
       "4          Iris-setosa\n",
       "             ...      \n",
       "2995    Iris-virginica\n",
       "2996    Iris-virginica\n",
       "2997    Iris-virginica\n",
       "2998    Iris-virginica\n",
       "2999    Iris-virginica\n",
       "Name: label, Length: 3000, dtype: object"
      ]
     },
     "execution_count": 63,
     "metadata": {},
     "output_type": "execute_result"
    }
   ],
   "source": [
    "y = df.iloc[:,-1]\n",
    "y"
   ]
  },
  {
   "cell_type": "code",
   "execution_count": 65,
   "id": "2a2c327a-0405-46cc-b499-0cba6b9b40a3",
   "metadata": {},
   "outputs": [],
   "source": [
    "label_to_index = {label: idx for idx, label in enumerate(np.unique(y))}\n",
    "index_to_label = { idx: label for label, idx in label_to_index.items()}\n",
    "\n",
    "y = np.array([label_to_index[label] for label in y])\n",
    "num_classes = len(label_to_index)"
   ]
  },
  {
   "cell_type": "code",
   "execution_count": 67,
   "id": "d98e383b-f80d-4725-85cd-9f2647e3125c",
   "metadata": {},
   "outputs": [
    {
     "data": {
      "text/plain": [
       "array([[1., 0., 0.],\n",
       "       [1., 0., 0.],\n",
       "       [1., 0., 0.],\n",
       "       ...,\n",
       "       [0., 0., 1.],\n",
       "       [0., 0., 1.],\n",
       "       [0., 0., 1.]])"
      ]
     },
     "execution_count": 67,
     "metadata": {},
     "output_type": "execute_result"
    }
   ],
   "source": [
    "def one_hot_encoding(y, num_classes):\n",
    "    one_hot_labels = np.zeros((y.size, num_classes))\n",
    "    one_hot_labels[np.arange(y.size),y]=1\n",
    "    return one_hot_labels\n",
    "\n",
    "y_encoded = one_hot_encoding(y, num_classes)\n",
    "y_encoded"
   ]
  },
  {
   "cell_type": "code",
   "execution_count": 69,
   "id": "978f6224-a8dc-4375-b700-fcba391c5eb9",
   "metadata": {},
   "outputs": [],
   "source": [
    "from sklearn.model_selection import train_test_split \n",
    "X_train_val, X_test, y_train_val, y_test = train_test_split(X, y_encoded, test_size=0.15, random_state=42, stratify=y_encoded)\n",
    "X_train, X_val, y_train, y_val = train_test_split(X_train_val, y_train_val, test_size=0.1764, random_state=42, stratify=y_train_val )"
   ]
  },
  {
   "cell_type": "code",
   "execution_count": 71,
   "id": "6d3adb8d-ce54-4f6d-bf75-ad5853c5a3c5",
   "metadata": {},
   "outputs": [
    {
     "data": {
      "text/plain": [
       "(      sepal length  sepal width  petal length  petal width\n",
       " 273            5.1          3.6           1.5          0.4\n",
       " 2752           6.3          3.0           5.5          1.8\n",
       " 2100           6.9          3.2           5.7          2.3\n",
       " 1909           5.0          2.3           3.4          1.0\n",
       " 546            4.8          3.0           1.3          0.1\n",
       " ...            ...          ...           ...          ...\n",
       " 1620           6.0          2.3           4.3          1.3\n",
       " 974            4.5          2.9           1.5          0.2\n",
       " 2738           6.8          3.1           5.5          2.1\n",
       " 562            5.1          3.8           1.5          0.3\n",
       " 519            4.8          3.1           1.6          0.2\n",
       " \n",
       " [2100 rows x 4 columns],\n",
       " array([[1., 0., 0.],\n",
       "        [0., 0., 1.],\n",
       "        [0., 0., 1.],\n",
       "        ...,\n",
       "        [0., 0., 1.],\n",
       "        [1., 0., 0.],\n",
       "        [1., 0., 0.]]))"
      ]
     },
     "execution_count": 71,
     "metadata": {},
     "output_type": "execute_result"
    }
   ],
   "source": [
    "X_train, y_train"
   ]
  },
  {
   "cell_type": "code",
   "execution_count": 73,
   "id": "3af65bc0-c9d2-4e2a-8a34-f348a9db4a32",
   "metadata": {},
   "outputs": [
    {
     "data": {
      "text/plain": [
       "(      sepal length  sepal width  petal length  petal width\n",
       " 541            5.1          3.8           1.6          0.4\n",
       " 465            5.1          3.5           1.5          0.4\n",
       " 1484           5.7          3.0           3.9          1.3\n",
       " 1344           5.8          3.0           4.5          1.5\n",
       " 317            5.3          3.7           1.5          0.2\n",
       " ...            ...          ...           ...          ...\n",
       " 1956           6.2          2.9           4.6          1.4\n",
       " 277            4.6          3.1           1.5          0.2\n",
       " 1161           5.8          2.6           3.9          1.1\n",
       " 2656           5.8          2.8           5.2          2.4\n",
       " 1116           6.3          3.3           4.6          1.6\n",
       " \n",
       " [450 rows x 4 columns],\n",
       " array([[1., 0., 0.],\n",
       "        [1., 0., 0.],\n",
       "        [0., 1., 0.],\n",
       "        ...,\n",
       "        [0., 1., 0.],\n",
       "        [0., 0., 1.],\n",
       "        [0., 1., 0.]]))"
      ]
     },
     "execution_count": 73,
     "metadata": {},
     "output_type": "execute_result"
    }
   ],
   "source": [
    "X_val, y_val"
   ]
  },
  {
   "cell_type": "code",
   "execution_count": 75,
   "id": "f9ebb462-b4c8-4786-a299-c8811d3282be",
   "metadata": {},
   "outputs": [
    {
     "data": {
      "text/plain": [
       "(      sepal length  sepal width  petal length  petal width\n",
       " 2214           6.6          3.0           5.7          2.2\n",
       " 885            5.1          3.3           1.6          0.4\n",
       " 2337           7.2          3.0           6.0          1.7\n",
       " 1827           4.9          2.4           3.2          1.0\n",
       " 310            5.1          3.3           1.6          0.4\n",
       " ...            ...          ...           ...          ...\n",
       " 1014           5.3          2.7           3.9          1.4\n",
       " 918            5.0          3.4           1.5          0.2\n",
       " 1323           5.7          2.9           4.3          1.4\n",
       " 1390           5.6          2.5           3.9          1.1\n",
       " 215            4.6          3.2           1.5          0.2\n",
       " \n",
       " [450 rows x 4 columns],\n",
       " array([[0., 0., 1.],\n",
       "        [1., 0., 0.],\n",
       "        [0., 0., 1.],\n",
       "        ...,\n",
       "        [0., 1., 0.],\n",
       "        [0., 1., 0.],\n",
       "        [1., 0., 0.]]))"
      ]
     },
     "execution_count": 75,
     "metadata": {},
     "output_type": "execute_result"
    }
   ],
   "source": [
    "X_test, y_test"
   ]
  },
  {
   "cell_type": "code",
   "execution_count": 77,
   "id": "1dae0a00-f9c0-4336-9c24-14fa6b0352a7",
   "metadata": {},
   "outputs": [
    {
     "data": {
      "text/plain": [
       "(array([[-0.95015346,  1.31798403, -1.29388981, -1.04245304],\n",
       "        [ 0.53870783, -0.12256062,  0.99194228,  0.80582337],\n",
       "        [ 1.28313847,  0.35762093,  1.10623388,  1.46592209],\n",
       "        ...,\n",
       "        [ 1.1590667 ,  0.11753015,  0.99194228,  1.2018826 ],\n",
       "        [-0.95015346,  1.79816558, -1.29388981, -1.17447279],\n",
       "        [-1.32236879,  0.11753015, -1.23674401, -1.30649253]]),\n",
       " array([[-0.95015346,  1.79816558, -1.23674401, -1.04245304],\n",
       "        [-0.95015346,  1.07789325, -1.29388981, -1.04245304],\n",
       "        [-0.20572282, -0.12256062,  0.07760944,  0.14572465],\n",
       "        ...,\n",
       "        [-0.08165104, -1.08292373,  0.07760944, -0.11831484],\n",
       "        [-0.08165104, -0.60274218,  0.82050487,  1.59794183],\n",
       "        [ 0.53870783,  0.5977117 ,  0.47763006,  0.54178388]]),\n",
       " array([[ 0.91092315, -0.12256062,  1.10623388,  1.33390235],\n",
       "        [-0.95015346,  0.5977117 , -1.23674401, -1.04245304],\n",
       "        [ 1.6553538 , -0.12256062,  1.27767129,  0.67380363],\n",
       "        ...,\n",
       "        [-0.20572282, -0.3626514 ,  0.30619265,  0.27774439],\n",
       "        [-0.32979459, -1.3230145 ,  0.07760944, -0.11831484],\n",
       "        [-1.57051233,  0.35762093, -1.29388981, -1.30649253]]))"
      ]
     },
     "execution_count": 77,
     "metadata": {},
     "output_type": "execute_result"
    }
   ],
   "source": [
    "from sklearn.preprocessing import StandardScaler\n",
    "\n",
    "scaler = StandardScaler()\n",
    "X_train = scaler.fit_transform(X_train)\n",
    "X_val = scaler.transform(X_val)\n",
    "X_test = scaler.transform(X_test)\n",
    "X_train, X_val, X_test"
   ]
  },
  {
   "cell_type": "code",
   "execution_count": 105,
   "id": "0625f842-7b43-44fb-9ea9-31ede80a3089",
   "metadata": {},
   "outputs": [],
   "source": [
    "class multi_class_classification:\n",
    "    def __init__(self, learning_rate = 0.01, n_iteration = 5000, beta = 0.99, epsilon = 1e-10):\n",
    "        self.learning_rate = learning_rate\n",
    "        self.n_iteration = n_iteration\n",
    "        self.beta = beta \n",
    "        self.epsilon = epsilon\n",
    "        self.weights = None\n",
    "        self.bias = None\n",
    "        self.losses = []\n",
    "        self.v_dw = None\n",
    "        self.v_db = None\n",
    "\n",
    "    def softmax(self, z):\n",
    "        exp_z = np.exp(z-np.max(z, axis = 1, keepdims = True))\n",
    "        return exp_z/np.sum(exp_z, axis = 1, keepdims = True)\n",
    "\n",
    "    def compute_cost(self, y, y_hat):\n",
    "        loss = -np.sum(y*np.log(y_hat + self.epsilon))/y.shape[0]\n",
    "        return loss\n",
    "        \n",
    "    def update_params_rms_prop(self, dw, db):\n",
    "        self.v_dw = self.beta * self.v_dw + (1-self.beta) * (dw ** 2)\n",
    "        self.v_db = self.beta * self.v_db + (1-self.beta) * (db ** 2)\n",
    "\n",
    "        self.weights -= (self.learning_rate * dw )/(np.sqrt(self.v_dw + self.epsilon))\n",
    "        self.bias -= (self.learning_rate * db )/(np.sqrt(self.v_db + self.epsilon))\n",
    "        \n",
    "    def fit(self, X, y):\n",
    "        n_samples, n_features = X.shape\n",
    "        self.n_classes = y.shape[1]\n",
    "\n",
    "        self.weights = np.zeros((n_features, self.n_classes))\n",
    "        self.bias = np.zeros((1, self.n_classes))\n",
    "\n",
    "        self.v_dw = np.zeros((n_features, self.n_classes))\n",
    "        self.v_db = np.zeros((1, self.n_classes))\n",
    "\n",
    "        for i in range(self.n_iteration):\n",
    "            f_wb = np.dot(X, self.weights)+self.bias\n",
    "            y_hat = self.softmax(f_wb)\n",
    "\n",
    "            dw = (1/n_samples) * np.dot(X.T, (y_hat - y))\n",
    "            db = (1/n_samples) * np.sum(y_hat - y, axis=0, keepdims=True)\n",
    "\n",
    "            loss = self.compute_cost(y, y_hat)\n",
    "            self.losses.append(loss)\n",
    "\n",
    "            self.update_params_rms_prop(dw,db)\n",
    "\n",
    "    def predict_proba(self, X):\n",
    "        f_wb = np.dot(X, self.weights)+self.bias\n",
    "        return self.softmax(f_wb)\n",
    "\n",
    "    def predict(self, X):\n",
    "        proba = self.predict_proba(X)\n",
    "        return np.argmax(proba, axis = 1)"
   ]
  },
  {
   "cell_type": "code",
   "execution_count": 107,
   "id": "9cd2924d-2bbc-43e9-b3b8-87283abaaca7",
   "metadata": {},
   "outputs": [],
   "source": [
    "model = multi_class_classification()\n",
    "model.fit(X_train, y_train)"
   ]
  },
  {
   "cell_type": "code",
   "execution_count": 108,
   "id": "877a8707-80d8-46b1-be09-7c3949eb22ab",
   "metadata": {},
   "outputs": [
    {
     "data": {
      "image/png": "[encoded data removed]",
      "text/plain": [
       "<Figure size 1000x600 with 1 Axes>"
      ]
     },
     "metadata": {},
     "output_type": "display_data"
    }
   ],
   "source": [
    "import matplotlib.pyplot as plt\n",
    "plt.figure(figsize=(10, 6))\n",
    "plt.plot(model.losses)\n",
    "plt.title('Loss over Iterations (Custom multi_class_classification)')\n",
    "plt.xlabel('Iteration')\n",
    "plt.xticks()\n",
    "plt.ylabel('Categorical Cross-Entropy Loss')\n",
    "plt.grid(True)\n",
    "plt.show()"
   ]
  },
  {
   "cell_type": "code",
   "execution_count": 111,
   "id": "8331bf6b-f31b-48e9-8b72-69aca9e60d86",
   "metadata": {},
   "outputs": [
    {
     "name": "stdout",
     "output_type": "stream",
     "text": [
      "Evaluation using Cross-Validation Set\n",
      "Validation Accuracy (Custom multi_class_classification): 0.9933\n",
      "\n",
      "Classification Report (Custom multi_class_classification on Validation Set):\n",
      "                  precision    recall  f1-score   support\n",
      "\n",
      "    Iris-setosa       1.00      1.00      1.00       150\n",
      "Iris-versicolor       0.99      0.99      0.99       150\n",
      " Iris-virginica       0.99      0.99      0.99       150\n",
      "\n",
      "       accuracy                           0.99       450\n",
      "      macro avg       0.99      0.99      0.99       450\n",
      "   weighted avg       0.99      0.99      0.99       450\n",
      "\n"
     ]
    },
    {
     "data": {
      "image/png": "[encoded data removed]",
      "text/plain": [
       "<Figure size 800x600 with 2 Axes>"
      ]
     },
     "metadata": {},
     "output_type": "display_data"
    }
   ],
   "source": [
    "from sklearn.metrics import accuracy_score, classification_report, confusion_matrix\n",
    "import seaborn as sns\n",
    "\n",
    "print(\"Evaluation using Cross-Validation Set\")\n",
    "y_val_pred_custom = model.predict(X_val)\n",
    "\n",
    "y_val_true_labels = np.argmax(y_val, axis=1)\n",
    "\n",
    "val_accuracy_custom = accuracy_score(y_val_true_labels, y_val_pred_custom)\n",
    "print(f\"Validation Accuracy (Custom multi_class_classification): {val_accuracy_custom:.4f}\")\n",
    "\n",
    "class_names = [index_to_label[i] for i in sorted(index_to_label.keys())]\n",
    "\n",
    "print(f\"\\nClassification Report (Custom multi_class_classification on Validation Set):\\n\",\n",
    "      classification_report(y_val_true_labels, y_val_pred_custom, target_names=class_names))\n",
    "\n",
    "plt.figure(figsize=(8, 6))\n",
    "sns.heatmap(confusion_matrix(y_val_true_labels, y_val_pred_custom), annot=True, fmt='d', cmap='Blues',\n",
    "            xticklabels=class_names, yticklabels=class_names)\n",
    "plt.title('Validation Confusion Matrix (Custom multi_class_classification)')\n",
    "plt.xlabel('Predicted Label')\n",
    "plt.ylabel('True Label')\n",
    "plt.show()"
   ]
  },
  {
   "cell_type": "code",
   "execution_count": 113,
   "id": "8e35aff0-bff0-4e84-9fcb-2b9e5d64ffe3",
   "metadata": {},
   "outputs": [
    {
     "name": "stdout",
     "output_type": "stream",
     "text": [
      "Evaluation using Test Set (Custom multi_class_classification)\n",
      "Test Accuracy (Custom multi_class_classification): 0.9911\n",
      "\n",
      "Classification Report (Custom multi_class_classification on Test Set):\n",
      "                  precision    recall  f1-score   support\n",
      "\n",
      "    Iris-setosa       1.00      1.00      1.00       150\n",
      "Iris-versicolor       0.99      0.99      0.99       150\n",
      " Iris-virginica       0.99      0.99      0.99       150\n",
      "\n",
      "       accuracy                           0.99       450\n",
      "      macro avg       0.99      0.99      0.99       450\n",
      "   weighted avg       0.99      0.99      0.99       450\n",
      "\n"
     ]
    },
    {
     "data": {
      "image/png": "[encoded data removed]",
      "text/plain": [
       "<Figure size 800x600 with 2 Axes>"
      ]
     },
     "metadata": {},
     "output_type": "display_data"
    },
    {
     "name": "stdout",
     "output_type": "stream",
     "text": [
      "Model Training and Evaluation Complete\n"
     ]
    }
   ],
   "source": [
    "print(\"Evaluation using Test Set (Custom multi_class_classification)\")\n",
    "y_test_pred_custom = model.predict(X_test)\n",
    "y_test_true_labels = np.argmax(y_test, axis=1)\n",
    "\n",
    "test_accuracy_custom = accuracy_score(y_test_true_labels, y_test_pred_custom)\n",
    "print(f\"Test Accuracy (Custom multi_class_classification): {test_accuracy_custom:.4f}\")\n",
    "print(f\"\\nClassification Report (Custom multi_class_classification on Test Set):\\n\",\n",
    "      classification_report(y_test_true_labels, y_test_pred_custom, target_names=class_names))\n",
    "\n",
    "plt.figure(figsize=(8, 6))\n",
    "sns.heatmap(confusion_matrix(y_test_true_labels, y_test_pred_custom), annot=True, fmt='d', cmap='Blues',\n",
    "            xticklabels=class_names, yticklabels=class_names)\n",
    "plt.title('Test Confusion Matrix (Custom multi_class_classification)')\n",
    "plt.xlabel('Predicted Label')\n",
    "plt.ylabel('True Label')\n",
    "plt.show()\n",
    "\n",
    "print(\"Model Training and Evaluation Complete\")"
   ]
  },
  {
   "cell_type": "code",
   "execution_count": null,
   "id": "1441b8d1-a854-465e-9bb6-5ead7ac5b280",
   "metadata": {},
   "outputs": [],
   "source": []
  }
 ],
 "metadata": {
  "kernelspec": {
   "display_name": "Python [conda env:base] *",
   "language": "python",
   "name": "conda-base-py"
  },
  "language_info": {
   "codemirror_mode": {
    "name": "ipython",
    "version": 3
   },
   "file_extension": ".py",
   "mimetype": "text/x-python",
   "name": "python",
   "nbconvert_exporter": "python",
   "pygments_lexer": "ipython3",
   "version": "3.12.7"
  }
 },
 "nbformat": 4,
 "nbformat_minor": 5
}
